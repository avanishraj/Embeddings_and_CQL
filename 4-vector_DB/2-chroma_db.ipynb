{
 "cells": [
  {
   "cell_type": "code",
   "execution_count": 3,
   "metadata": {},
   "outputs": [],
   "source": [
    "from langchain_community.document_loaders import TextLoader\n",
    "from langchain_community.vectorstores import Chroma\n",
    "from langchain_community.embeddings import OllamaEmbeddings\n",
    "from langchain_text_splitters import RecursiveCharacterTextSplitter"
   ]
  },
  {
   "cell_type": "code",
   "execution_count": 6,
   "metadata": {},
   "outputs": [
    {
     "data": {
      "text/plain": [
       "[Document(metadata={'source': 'speech.txt'}, page_content='The warm breeze swept across the vast, tranquil beach, carrying with it the unmistakable scent of saltwater mixed with the freshness of the ocean air. Seagulls called out in the distance, their cries'),\n",
       " Document(metadata={'source': 'speech.txt'}, page_content='rising and falling with the soft murmur of the wind. The golden sun, now sinking slowly toward the horizon, cast a breathtaking display of colors across the sky—fiery shades of orange and red blended'),\n",
       " Document(metadata={'source': 'speech.txt'}, page_content='seamlessly into the soft pinks and purples of dusk. Each moment brought a deepening vibrancy to the heavens, as if the sky itself were alive with the dance of light and shadow.'),\n",
       " Document(metadata={'source': 'speech.txt'}, page_content='Along the shoreline, gentle waves rolled in with rhythmic precision, their delicate crests breaking softly upon the sand, retreating with a soothing hush that whispered of endless serenity. The water'),\n",
       " Document(metadata={'source': 'speech.txt'}, page_content='shimmered under the evening glow, catching glints of light that played upon the surface like fleeting diamonds. A collection of sea shells, polished smooth by time and tide, dotted the beach—some'),\n",
       " Document(metadata={'source': 'speech.txt'}, page_content='half-buried, others gleaming in the last light of day.'),\n",
       " Document(metadata={'source': 'speech.txt'}, page_content='In the distance, a couple strolled lazily along the shore, hand in hand, their footsteps leaving faint impressions behind them, only to be washed away by the tide. Their laughter, light and carefree,'),\n",
       " Document(metadata={'source': 'speech.txt'}, page_content='mingled with the sound of the sea, as though both were part of the same eternal rhythm. The world around them seemed to hold its breath, suspended in the perfect harmony of nature’s quiet beauty.'),\n",
       " Document(metadata={'source': 'speech.txt'}, page_content='This peaceful haven felt untouched by time, a place where the simple joys of life—of companionship, of nature, and of stillness—were magnified by the immense, boundless beauty of the ocean and sky.'),\n",
       " Document(metadata={'source': 'speech.txt'}, page_content='It was a moment of reflection and tranquility, a gentle reminder of the serenity that can be found in the smallest, most fleeting moments when the world is at peace.')]"
      ]
     },
     "execution_count": 6,
     "metadata": {},
     "output_type": "execute_result"
    }
   ],
   "source": [
    "textLoder = TextLoader(\"speech.txt\")\n",
    "textLoder_Docs = textLoder.load()\n",
    "text_split = RecursiveCharacterTextSplitter(chunk_size = 200, chunk_overlap = 0)\n",
    "text_split_docs = text_split.split_documents(textLoder_Docs)\n",
    "text_split_docs"
   ]
  },
  {
   "cell_type": "code",
   "execution_count": 9,
   "metadata": {},
   "outputs": [
    {
     "data": {
      "text/plain": [
       "<langchain_community.vectorstores.chroma.Chroma at 0x240b3764d10>"
      ]
     },
     "execution_count": 9,
     "metadata": {},
     "output_type": "execute_result"
    }
   ],
   "source": [
    "embeddings = OllamaEmbeddings(model=\"gemma:2b\")\n",
    "vectorDB = Chroma.from_documents(documents=text_split_docs, embedding=embeddings)\n",
    "vectorDB"
   ]
  },
  {
   "cell_type": "code",
   "execution_count": 13,
   "metadata": {},
   "outputs": [
    {
     "data": {
      "text/plain": [
       "[Document(metadata={'source': 'speech.txt'}, page_content='mingled with the sound of the sea, as though both were part of the same eternal rhythm. The world around them seemed to hold its breath, suspended in the perfect harmony of nature’s quiet beauty.'),\n",
       " Document(metadata={'source': 'speech.txt'}, page_content='This peaceful haven felt untouched by time, a place where the simple joys of life—of companionship, of nature, and of stillness—were magnified by the immense, boundless beauty of the ocean and sky.'),\n",
       " Document(metadata={'source': 'speech.txt'}, page_content='It was a moment of reflection and tranquility, a gentle reminder of the serenity that can be found in the smallest, most fleeting moments when the world is at peace.'),\n",
       " Document(metadata={'source': 'speech.txt'}, page_content='half-buried, others gleaming in the last light of day.')]"
      ]
     },
     "execution_count": 13,
     "metadata": {},
     "output_type": "execute_result"
    }
   ],
   "source": [
    "query = \"How does the author use imagery to convey the peacefulness of the beach setting in the passage?\"\n",
    "docs = vectorDB.similarity_search(query=query)\n",
    "docs2 = vectorDB.similarity_search_with_score(query=query)\n",
    "docs2\n",
    "# docs[0].page_content\n",
    "docs"
   ]
  },
  {
   "cell_type": "code",
   "execution_count": 14,
   "metadata": {},
   "outputs": [],
   "source": [
    "#storing \n",
    "vectorDB = Chroma.from_documents(documents=text_split_docs, embedding=embeddings, persist_directory='./chroma_db')"
   ]
  },
  {
   "cell_type": "code",
   "execution_count": 15,
   "metadata": {},
   "outputs": [
    {
     "name": "stderr",
     "output_type": "stream",
     "text": [
      "C:\\Users\\impri\\AppData\\Local\\Temp\\ipykernel_9188\\278104213.py:2: LangChainDeprecationWarning: The class `Chroma` was deprecated in LangChain 0.2.9 and will be removed in 1.0. An updated version of the class exists in the :class:`~langchain-chroma package and should be used instead. To use it run `pip install -U :class:`~langchain-chroma` and import as `from :class:`~langchain_chroma import Chroma``.\n",
      "  db2 = Chroma(persist_directory='./chroma_db', embedding_function=embeddings)\n"
     ]
    },
    {
     "data": {
      "text/plain": [
       "[Document(metadata={'source': 'speech.txt'}, page_content='mingled with the sound of the sea, as though both were part of the same eternal rhythm. The world around them seemed to hold its breath, suspended in the perfect harmony of nature’s quiet beauty.'),\n",
       " Document(metadata={'source': 'speech.txt'}, page_content='This peaceful haven felt untouched by time, a place where the simple joys of life—of companionship, of nature, and of stillness—were magnified by the immense, boundless beauty of the ocean and sky.'),\n",
       " Document(metadata={'source': 'speech.txt'}, page_content='It was a moment of reflection and tranquility, a gentle reminder of the serenity that can be found in the smallest, most fleeting moments when the world is at peace.'),\n",
       " Document(metadata={'source': 'speech.txt'}, page_content='half-buried, others gleaming in the last light of day.')]"
      ]
     },
     "execution_count": 15,
     "metadata": {},
     "output_type": "execute_result"
    }
   ],
   "source": [
    "#loading\n",
    "db2 = Chroma(persist_directory='./chroma_db', embedding_function=embeddings)\n",
    "db2.similarity_search(query=query)"
   ]
  },
  {
   "cell_type": "code",
   "execution_count": 17,
   "metadata": {},
   "outputs": [
    {
     "data": {
      "text/plain": [
       "'mingled with the sound of the sea, as though both were part of the same eternal rhythm. The world around them seemed to hold its breath, suspended in the perfect harmony of nature’s quiet beauty.'"
      ]
     },
     "execution_count": 17,
     "metadata": {},
     "output_type": "execute_result"
    }
   ],
   "source": [
    "# Retriever option\n",
    "retriever = vectorDB.as_retriever()\n",
    "retriever.invoke(query)[0].page_content"
   ]
  },
  {
   "cell_type": "code",
   "execution_count": null,
   "metadata": {},
   "outputs": [],
   "source": []
  }
 ],
 "metadata": {
  "kernelspec": {
   "display_name": "Python 3",
   "language": "python",
   "name": "python3"
  },
  "language_info": {
   "codemirror_mode": {
    "name": "ipython",
    "version": 3
   },
   "file_extension": ".py",
   "mimetype": "text/x-python",
   "name": "python",
   "nbconvert_exporter": "python",
   "pygments_lexer": "ipython3",
   "version": "3.12.5"
  }
 },
 "nbformat": 4,
 "nbformat_minor": 2
}
